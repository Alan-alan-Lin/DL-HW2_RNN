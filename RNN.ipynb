{
 "cells": [
  {
   "cell_type": "code",
   "execution_count": 23,
   "metadata": {},
   "outputs": [],
   "source": [
    "#import all required packages and modules.\n",
    "import pandas as pd\n",
    "import numpy as np\n",
    "import matplotlib.pyplot as plt\n",
    "from tensorflow.keras.preprocessing.text import Tokenizer\n",
    "from tensorflow.keras.preprocessing.sequence import pad_sequences\n",
    "from tensorflow.keras.utils import to_categorical\n",
    "from tensorflow.keras.models import Sequential\n",
    "from tensorflow.keras.layers import Dense, Input, GlobalMaxPooling1D, Dropout, LSTM, GRU, Bidirectional, SpatialDropout1D,ConvLSTM2D\n",
    "from tensorflow.keras.layers import Conv1D, MaxPooling1D, Embedding, Flatten\n",
    "from tensorflow.keras.callbacks import ModelCheckpoint, EarlyStopping, TensorBoard\n",
    "from tensorflow.keras.models import Model\n",
    "from tensorflow.keras.initializers import Constant\n",
    "from tensorflow.keras.regularizers import l1, l2\n",
    "\n",
    "from sklearn.preprocessing import LabelEncoder\n",
    "from sklearn.model_selection import train_test_split\n",
    "\n",
    "import nltk\n",
    "import nltk.corpus\n",
    "import string\n",
    "import re\n",
    "from nltk.tokenize import word_tokenize,sent_tokenize\n",
    "from nltk.stem import WordNetLemmatizer"
   ]
  },
  {
   "cell_type": "code",
   "execution_count": 24,
   "metadata": {},
   "outputs": [
    {
     "data": {
      "text/html": [
       "<div>\n",
       "<style scoped>\n",
       "    .dataframe tbody tr th:only-of-type {\n",
       "        vertical-align: middle;\n",
       "    }\n",
       "\n",
       "    .dataframe tbody tr th {\n",
       "        vertical-align: top;\n",
       "    }\n",
       "\n",
       "    .dataframe thead th {\n",
       "        text-align: right;\n",
       "    }\n",
       "</style>\n",
       "<table border=\"1\" class=\"dataframe\">\n",
       "  <thead>\n",
       "    <tr style=\"text-align: right;\">\n",
       "      <th></th>\n",
       "      <th>Id</th>\n",
       "      <th>Category</th>\n",
       "      <th>Title</th>\n",
       "    </tr>\n",
       "  </thead>\n",
       "  <tbody>\n",
       "    <tr>\n",
       "      <th>0</th>\n",
       "      <td>0</td>\n",
       "      <td>sport</td>\n",
       "      <td>Roddick in talks over new coach</td>\n",
       "    </tr>\n",
       "    <tr>\n",
       "      <th>1</th>\n",
       "      <td>1</td>\n",
       "      <td>entertainment</td>\n",
       "      <td>Prodigy join V Festival line-up</td>\n",
       "    </tr>\n",
       "    <tr>\n",
       "      <th>2</th>\n",
       "      <td>2</td>\n",
       "      <td>entertainment</td>\n",
       "      <td>Sundance to honour foreign films</td>\n",
       "    </tr>\n",
       "    <tr>\n",
       "      <th>3</th>\n",
       "      <td>3</td>\n",
       "      <td>sport</td>\n",
       "      <td>Dunne keen to commit to Man City</td>\n",
       "    </tr>\n",
       "    <tr>\n",
       "      <th>4</th>\n",
       "      <td>4</td>\n",
       "      <td>politics</td>\n",
       "      <td>Row over 'police' power for CSOs</td>\n",
       "    </tr>\n",
       "    <tr>\n",
       "      <th>...</th>\n",
       "      <td>...</td>\n",
       "      <td>...</td>\n",
       "      <td>...</td>\n",
       "    </tr>\n",
       "    <tr>\n",
       "      <th>1775</th>\n",
       "      <td>1775</td>\n",
       "      <td>business</td>\n",
       "      <td>Lufthansa may sue over Bush visit</td>\n",
       "    </tr>\n",
       "    <tr>\n",
       "      <th>1776</th>\n",
       "      <td>1776</td>\n",
       "      <td>tech</td>\n",
       "      <td>Rolling out next generation's net</td>\n",
       "    </tr>\n",
       "    <tr>\n",
       "      <th>1777</th>\n",
       "      <td>1777</td>\n",
       "      <td>sport</td>\n",
       "      <td>Mirza makes Indian tennis history</td>\n",
       "    </tr>\n",
       "    <tr>\n",
       "      <th>1778</th>\n",
       "      <td>1778</td>\n",
       "      <td>tech</td>\n",
       "      <td>GTA sequel is criminally good</td>\n",
       "    </tr>\n",
       "    <tr>\n",
       "      <th>1779</th>\n",
       "      <td>1779</td>\n",
       "      <td>tech</td>\n",
       "      <td>Go-ahead for new internet names</td>\n",
       "    </tr>\n",
       "  </tbody>\n",
       "</table>\n",
       "<p>1780 rows × 3 columns</p>\n",
       "</div>"
      ],
      "text/plain": [
       "        Id       Category                              Title\n",
       "0        0          sport    Roddick in talks over new coach\n",
       "1        1  entertainment    Prodigy join V Festival line-up\n",
       "2        2  entertainment   Sundance to honour foreign films\n",
       "3        3          sport   Dunne keen to commit to Man City\n",
       "4        4       politics   Row over 'police' power for CSOs\n",
       "...    ...            ...                                ...\n",
       "1775  1775       business  Lufthansa may sue over Bush visit\n",
       "1776  1776           tech  Rolling out next generation's net\n",
       "1777  1777          sport  Mirza makes Indian tennis history\n",
       "1778  1778           tech      GTA sequel is criminally good\n",
       "1779  1779           tech    Go-ahead for new internet names\n",
       "\n",
       "[1780 rows x 3 columns]"
      ]
     },
     "execution_count": 24,
     "metadata": {},
     "output_type": "execute_result"
    }
   ],
   "source": [
    "#load train and test data\n",
    "train_data = pd.read_csv('train.csv')\n",
    "test_data = pd.read_csv('test.csv')\n",
    "train_data"
   ]
  },
  {
   "cell_type": "code",
   "execution_count": 25,
   "metadata": {},
   "outputs": [
    {
     "name": "stdout",
     "output_type": "stream",
     "text": [
      "business         424\n",
      "sport            400\n",
      "tech             323\n",
      "politics         319\n",
      "entertainment    314\n",
      "Name: Category, dtype: int64\n"
     ]
    },
    {
     "name": "stderr",
     "output_type": "stream",
     "text": [
      "<ipython-input-25-bf52e6919eac>:8: SettingWithCopyWarning: \n",
      "A value is trying to be set on a copy of a slice from a DataFrame\n",
      "\n",
      "See the caveats in the documentation: https://pandas.pydata.org/pandas-docs/stable/user_guide/indexing.html#returning-a-view-versus-a-copy\n",
      "  X['Title'][i] = X['Title'][i].lower()\n",
      "<ipython-input-25-bf52e6919eac>:10: SettingWithCopyWarning: \n",
      "A value is trying to be set on a copy of a slice from a DataFrame\n",
      "\n",
      "See the caveats in the documentation: https://pandas.pydata.org/pandas-docs/stable/user_guide/indexing.html#returning-a-view-versus-a-copy\n",
      "  X['Title'][i] = re.sub(r'\\d+', '', X['Title'][i])\n",
      "<ipython-input-25-bf52e6919eac>:12: SettingWithCopyWarning: \n",
      "A value is trying to be set on a copy of a slice from a DataFrame\n",
      "\n",
      "See the caveats in the documentation: https://pandas.pydata.org/pandas-docs/stable/user_guide/indexing.html#returning-a-view-versus-a-copy\n",
      "  X['Title'][i] = X['Title'][i].translate(str.maketrans(\"\", \"\", string.punctuation))\n",
      "<ipython-input-25-bf52e6919eac>:14: SettingWithCopyWarning: \n",
      "A value is trying to be set on a copy of a slice from a DataFrame\n",
      "\n",
      "See the caveats in the documentation: https://pandas.pydata.org/pandas-docs/stable/user_guide/indexing.html#returning-a-view-versus-a-copy\n",
      "  X['Title'][i] = X['Title'][i].strip()\n"
     ]
    },
    {
     "name": "stdout",
     "output_type": "stream",
     "text": [
      "        Id                              Title\n",
      "0        0    roddick in talks over new coach\n",
      "1        1     prodigy join v festival lineup\n",
      "2        2   sundance to honour foreign films\n",
      "3        3   dunne keen to commit to man city\n",
      "4        4     row over police power for csos\n",
      "...    ...                                ...\n",
      "1775  1775  lufthansa may sue over bush visit\n",
      "1776  1776   rolling out next generations net\n",
      "1777  1777  mirza makes indian tennis history\n",
      "1778  1778      gta sequel is criminally good\n",
      "1779  1779     goahead for new internet names\n",
      "\n",
      "[1780 rows x 2 columns]\n"
     ]
    },
    {
     "name": "stderr",
     "output_type": "stream",
     "text": [
      "<ipython-input-25-bf52e6919eac>:17: SettingWithCopyWarning: \n",
      "A value is trying to be set on a copy of a slice from a DataFrame\n",
      "\n",
      "See the caveats in the documentation: https://pandas.pydata.org/pandas-docs/stable/user_guide/indexing.html#returning-a-view-versus-a-copy\n",
      "  test_X['Title'][i] = test_X['Title'][i].lower()\n",
      "<ipython-input-25-bf52e6919eac>:18: SettingWithCopyWarning: \n",
      "A value is trying to be set on a copy of a slice from a DataFrame\n",
      "\n",
      "See the caveats in the documentation: https://pandas.pydata.org/pandas-docs/stable/user_guide/indexing.html#returning-a-view-versus-a-copy\n",
      "  test_X['Title'][i] = re.sub(r'\\d+', '', test_X['Title'][i])\n",
      "<ipython-input-25-bf52e6919eac>:19: SettingWithCopyWarning: \n",
      "A value is trying to be set on a copy of a slice from a DataFrame\n",
      "\n",
      "See the caveats in the documentation: https://pandas.pydata.org/pandas-docs/stable/user_guide/indexing.html#returning-a-view-versus-a-copy\n",
      "  test_X['Title'][i] = test_X['Title'][i].translate(str.maketrans(\"\", \"\", string.punctuation))\n",
      "<ipython-input-25-bf52e6919eac>:20: SettingWithCopyWarning: \n",
      "A value is trying to be set on a copy of a slice from a DataFrame\n",
      "\n",
      "See the caveats in the documentation: https://pandas.pydata.org/pandas-docs/stable/user_guide/indexing.html#returning-a-view-versus-a-copy\n",
      "  test_X['Title'][i] = test_X['Title'][i].strip()\n"
     ]
    }
   ],
   "source": [
    "X = train_data.drop(['Category'], axis=1)\n",
    "test_X = test_data\n",
    "Y = train_data['Category']\n",
    "print(Y.value_counts())\n",
    "#text preprocess\n",
    "for i in range(len(X)):\n",
    "    #轉成小寫\n",
    "    X['Title'][i] = X['Title'][i].lower()\n",
    "    #移除數字\n",
    "    X['Title'][i] = re.sub(r'\\d+', '', X['Title'][i])\n",
    "    #Remove punctuation\n",
    "    X['Title'][i] = X['Title'][i].translate(str.maketrans(\"\", \"\", string.punctuation))\n",
    "    #移除white space\n",
    "    X['Title'][i] = X['Title'][i].strip()\n",
    "print(X)\n",
    "for i in range(len(test_X)):\n",
    "    test_X['Title'][i] = test_X['Title'][i].lower()\n",
    "    test_X['Title'][i] = re.sub(r'\\d+', '', test_X['Title'][i])\n",
    "    test_X['Title'][i] = test_X['Title'][i].translate(str.maketrans(\"\", \"\", string.punctuation))\n",
    "    test_X['Title'][i] = test_X['Title'][i].strip()"
   ]
  },
  {
   "cell_type": "code",
   "execution_count": 26,
   "metadata": {},
   "outputs": [
    {
     "name": "stderr",
     "output_type": "stream",
     "text": [
      "[nltk_data] Downloading package stopwords to\n",
      "[nltk_data]     C:\\Users\\Alan_Lin\\AppData\\Roaming\\nltk_data...\n",
      "[nltk_data]   Package stopwords is already up-to-date!\n",
      "<ipython-input-26-078085196c5d>:7: SettingWithCopyWarning: \n",
      "A value is trying to be set on a copy of a slice from a DataFrame\n",
      "\n",
      "See the caveats in the documentation: https://pandas.pydata.org/pandas-docs/stable/user_guide/indexing.html#returning-a-view-versus-a-copy\n",
      "  X['Title'][i] = [j for j in tokens if not j in stop_words]\n",
      "<ipython-input-26-078085196c5d>:10: SettingWithCopyWarning: \n",
      "A value is trying to be set on a copy of a slice from a DataFrame\n",
      "\n",
      "See the caveats in the documentation: https://pandas.pydata.org/pandas-docs/stable/user_guide/indexing.html#returning-a-view-versus-a-copy\n",
      "  test_X['Title'][i] = [j for j in test_tokens if not j in stop_words]\n"
     ]
    }
   ],
   "source": [
    "#tokenization:splitting the given text into smaller pieces called tokens\n",
    "#移除stop word(像是a, the, is)\n",
    "nltk.download('stopwords')\n",
    "stop_words = nltk.corpus.stopwords.words('english')\n",
    "for i in range(len(X)):\n",
    "    tokens = word_tokenize(X['Title'][i])\n",
    "    X['Title'][i] = [j for j in tokens if not j in stop_words]\n",
    "for i in range(len(test_X)):\n",
    "    test_tokens = word_tokenize(test_X['Title'][i])\n",
    "    test_X['Title'][i] = [j for j in test_tokens if not j in stop_words]\n",
    "# #lemmatization:reduce inflectional forms to a common base form.\n",
    "# nltk.download('wordnet')\n",
    "# lemmatizer=WordNetLemmatizer()\n",
    "# string = \"\"\n",
    "# for i in range(len(X)):\n",
    "#     X['Title'][i] = [lemmatizer.lemmatize(w) for w in X['Title'][i]]\n",
    "# for i in range(len(test_X)):\n",
    "#     test_X['Title'][i] = [lemmatizer.lemmatize(w) for w in test_X['Title'][i]]\n",
    "# print(X)"
   ]
  },
  {
   "cell_type": "code",
   "execution_count": 27,
   "metadata": {},
   "outputs": [
    {
     "name": "stdout",
     "output_type": "stream",
     "text": [
      "[3 1 1 ... 3 4 4]\n",
      "Shape of data tensor: (1780, 8)\n",
      "Shape of label tensor: (1780, 5)\n",
      "3266\n",
      "[[   0    0    0 ...   60    2  197]\n",
      " [   0    0    0 ...  158  260  497]\n",
      " [   0    0    0 ...  159  754  499]\n",
      " ...\n",
      " [   0    0    0 ...  313  446  474]\n",
      " [   0    0    0 ... 1329 3266  952]\n",
      " [   0    0    0 ...    2  469  368]]\n"
     ]
    }
   ],
   "source": [
    "#用label encoder將label轉成(0 1 2 3)\n",
    "le = LabelEncoder()\n",
    "le.fit(Y)\n",
    "Y = le.transform(Y)\n",
    "print(Y)\n",
    "\n",
    "train_text = np.array(X['Title'])\n",
    "MAX_SEQUENCE_LENGTH = 8 #10\n",
    "tokenizer = Tokenizer()\n",
    "tokenizer.fit_on_texts(train_text)\n",
    "train_sequence = tokenizer.texts_to_sequences(train_text)\n",
    "word_index = tokenizer.word_index\n",
    "train_text_data = pad_sequences(train_sequence, maxlen = MAX_SEQUENCE_LENGTH)\n",
    "train_text_labels = to_categorical(np.asarray(Y))\n",
    "print('Shape of data tensor:', train_text_data.shape)\n",
    "print('Shape of label tensor:', train_text_labels.shape)\n",
    "print(len(word_index))\n",
    "print(train_text_data)\n",
    "\n",
    "test_text = np.array(test_X['Title'])\n",
    "# tokenizer = Tokenizer()\n",
    "# tokenizer.fit_on_texts(test_text)\n",
    "test_sequence = tokenizer.texts_to_sequences(test_text)\n",
    "#word_index = tokenizer.word_index\n",
    "test_text_data = pad_sequences(test_sequence, maxlen = MAX_SEQUENCE_LENGTH)"
   ]
  },
  {
   "cell_type": "code",
   "execution_count": 28,
   "metadata": {},
   "outputs": [
    {
     "name": "stdout",
     "output_type": "stream",
     "text": [
      "Found 400000 word vectors.\n",
      "Wall time: 1min 56s\n"
     ]
    }
   ],
   "source": [
    "EMBEDDING_DIM = 300\n",
    "embeddings_index = {}\n",
    "with open('glove.6B.'+str(EMBEDDING_DIM)+'d.txt', encoding=\"utf-8\") as f:\n",
    "    for line in f:\n",
    "        word, coefs = line.split(maxsplit=1)\n",
    "        coefs = np.fromstring(coefs, 'f', sep=' ')\n",
    "        embeddings_index[word] = coefs\n",
    "        \n",
    "#Create glove embedding matrix\n",
    "embedding_matrix = np.zeros((len(word_index) + 1, EMBEDDING_DIM))\n",
    "QQ=0\n",
    "for word, i in word_index.items():\n",
    "    embedding_vector = embeddings_index.get(word.lower())\n",
    "    if embedding_vector is not None:\n",
    "        # words not found in embedding index will be all-zeros.\n",
    "        embedding_matrix[i] = embedding_vector\n",
    "    else:\n",
    "        QQ = QQ+1\n",
    "\n",
    "print('Found %s word vectors.' % len(embeddings_index))\n",
    "#Keras Glove Embedding layer\n",
    "embedding_layer = Embedding(len(word_index) + 1, EMBEDDING_DIM, weights=[embedding_matrix], input_length = MAX_SEQUENCE_LENGTH, trainable=True)"
   ]
  },
  {
   "cell_type": "code",
   "execution_count": 29,
   "metadata": {},
   "outputs": [
    {
     "data": {
      "text/plain": [
       "105"
      ]
     },
     "execution_count": 29,
     "metadata": {},
     "output_type": "execute_result"
    }
   ],
   "source": [
    "print(QQ)"
   ]
  },
  {
   "cell_type": "code",
   "execution_count": 30,
   "metadata": {},
   "outputs": [
    {
     "name": "stdout",
     "output_type": "stream",
     "text": [
      "(3267, 300)\n"
     ]
    },
    {
     "data": {
      "text/plain": [
       "array([ 1.95669994e-01,  5.24219990e-01, -2.25590006e-01,  7.61259973e-01,\n",
       "       -1.67300001e-01,  1.94590002e-01, -1.24689996e+00, -5.17260015e-01,\n",
       "        7.55039990e-01,  6.35490000e-01,  6.62469983e-01,  3.87750000e-01,\n",
       "        2.02649996e-01,  5.51900029e-01, -7.24730015e-01, -4.00319993e-01,\n",
       "       -4.16839987e-01,  1.91259995e-01,  2.67529994e-01,  5.63950002e-01,\n",
       "       -3.81390005e-02,  8.17809999e-02, -4.93800014e-01, -3.15549999e-01,\n",
       "       -5.23769975e-01, -9.08979997e-02,  1.17090002e-01,  3.38099986e-01,\n",
       "       -6.82470024e-01,  4.80560005e-01, -2.03099996e-01,  2.35300004e-01,\n",
       "       -6.72089979e-02,  1.67209998e-01, -2.43640002e-02, -4.39170003e-01,\n",
       "        1.03799999e-01, -2.92640001e-01, -2.84359992e-01,  4.85760003e-01,\n",
       "       -6.88479990e-02, -5.89839995e-01, -3.19189996e-01, -4.84939992e-01,\n",
       "        2.64099985e-01, -3.87259983e-02,  2.51120001e-01,  1.65969998e-01,\n",
       "        1.24930004e-02,  1.85560003e-01,  5.45220017e-01,  2.86000013e-01,\n",
       "        3.99470001e-01, -1.89879999e-01, -4.30590004e-01,  5.00959992e-01,\n",
       "       -1.80999994e-01,  3.38690006e-03, -2.61130005e-01,  1.27919996e-02,\n",
       "        1.65769994e-01, -3.89059991e-01, -2.21180007e-01,  2.84410000e-01,\n",
       "       -3.49700004e-01, -4.48000014e-01,  1.66079998e-01, -1.93289995e-01,\n",
       "       -6.66949987e-01, -6.57909989e-01,  2.35770002e-01,  7.47569978e-01,\n",
       "        4.09099996e-01, -1.89619996e-02,  2.02439994e-01, -4.04650003e-01,\n",
       "       -5.48919976e-01, -5.51129997e-01, -5.91359973e-01, -3.32209989e-02,\n",
       "        6.21460021e-01, -1.41190007e-01, -1.24569997e-01,  3.89310002e-01,\n",
       "        2.48190001e-01, -7.47499987e-02,  6.86559975e-01, -3.18610013e-01,\n",
       "        7.97000006e-02, -1.02210000e-01,  3.30729991e-01, -3.41010004e-01,\n",
       "        2.38749996e-01, -4.91349995e-01, -1.54039994e-01,  3.94719988e-01,\n",
       "       -2.49720007e-01,  5.52670002e-01,  2.99880002e-03, -3.98070008e-01,\n",
       "        5.15470028e-01, -2.67509997e-01,  2.25079998e-01, -5.60720026e-01,\n",
       "        1.08229995e+00,  9.31490004e-01, -4.98140007e-01,  1.74989998e-01,\n",
       "       -8.80129993e-01, -1.69100001e-01,  3.30900013e-01,  7.18670011e-01,\n",
       "        3.42079997e-01, -7.42420018e-01, -5.69800019e-01, -2.22149994e-02,\n",
       "       -5.36520004e-01, -3.38959992e-01, -6.21110012e-05,  5.34839988e-01,\n",
       "       -8.78340006e-01, -9.83000025e-02, -4.93099988e-01, -2.51969993e-01,\n",
       "        2.69910008e-01, -5.46850003e-02,  5.53759992e-01, -3.64580005e-01,\n",
       "        1.95339993e-01,  5.89010000e-01, -5.61960004e-02,  4.65900004e-01,\n",
       "        1.40929997e-01, -2.56779999e-01, -3.13870013e-01, -6.07649982e-01,\n",
       "        5.64390004e-01, -2.47740000e-01,  6.52459979e-01,  2.64479995e-01,\n",
       "       -7.06169978e-02, -4.26479995e-01,  1.47799999e-01,  9.83089983e-01,\n",
       "        1.00469999e-01, -2.03520000e-01, -5.35849988e-01,  3.26240003e-01,\n",
       "       -1.63289994e-01, -7.08000004e-01, -7.06439972e-01, -4.23610002e-01,\n",
       "       -1.15840003e-01,  5.34150004e-01,  5.43829978e-01, -6.36570007e-02,\n",
       "        1.24600001e-01, -2.77170002e-01, -2.37519994e-01,  7.17609972e-02,\n",
       "       -2.98099995e-01, -1.51789993e-01,  1.82820007e-01, -2.07479998e-01,\n",
       "       -2.38550007e-02,  2.34339997e-01,  3.50219995e-01,  1.09150000e-01,\n",
       "        1.18460000e-01,  1.76609993e-01, -1.27279997e-01,  6.54190004e-01,\n",
       "        4.80470002e-01, -1.05420001e-01, -8.07110012e-01,  2.08020005e-02,\n",
       "       -5.52950008e-03,  3.75589997e-01,  3.32040012e-01,  2.18659997e-01,\n",
       "        7.81750023e-01,  5.56649983e-01,  5.41909993e-01, -1.72160007e-02,\n",
       "       -4.39200014e-01, -8.10920000e-02, -5.75959980e-01,  4.51550007e-01,\n",
       "        4.86660004e-01,  1.86220005e-01, -1.86780006e-01, -2.68150002e-01,\n",
       "       -1.92670003e-02, -1.10749997e-01,  7.56519973e-01, -4.60209996e-01,\n",
       "       -5.12399990e-03,  3.62949997e-01,  2.56460011e-01, -2.10720003e-01,\n",
       "        7.90189981e-01,  3.64580005e-01, -1.32349998e-01,  2.91860014e-01,\n",
       "       -5.38299978e-01, -1.12219997e-01, -8.05149972e-01, -1.37429997e-01,\n",
       "       -1.39569998e-01,  1.79499999e-01, -4.67689991e-01, -1.09700002e-01,\n",
       "        1.93739999e-02, -2.48480007e-01,  1.03219998e+00, -1.82510003e-01,\n",
       "       -5.33909976e-01,  2.11520001e-01,  2.60600001e-01, -1.88639998e-01,\n",
       "        3.85430008e-02,  7.76489973e-02, -3.59690011e-01,  4.20769989e-01,\n",
       "        1.79529995e-01, -2.22770005e-01,  7.10730016e-01, -2.51910001e-01,\n",
       "       -2.14990005e-01,  5.40390015e-01, -5.68589985e-01,  1.69560000e-01,\n",
       "        3.15349996e-01,  4.29089993e-01,  2.29349993e-02,  4.73749995e-01,\n",
       "       -2.48009995e-01,  8.91179979e-01, -2.03999996e-01,  4.37880009e-01,\n",
       "       -2.19819993e-01,  7.00220019e-02, -5.21239996e-01, -5.29309988e-01,\n",
       "        6.01639986e-01,  6.53190017e-01, -4.49030012e-01, -2.66409993e-01,\n",
       "       -1.50130004e-01, -2.09399998e-01,  1.88909993e-01, -4.41760004e-01,\n",
       "        1.45319998e-01, -2.47380003e-01, -1.09959999e-02,  4.80099991e-02,\n",
       "        6.34039998e-01,  2.28799999e-01, -1.73840001e-01, -5.69339991e-01,\n",
       "       -1.78059995e-01,  3.27459991e-01,  1.66040003e-01,  2.09390000e-03,\n",
       "        2.24099994e-01,  6.40680024e-04,  3.20169985e-01, -3.12320003e-03,\n",
       "       -2.38690004e-01,  2.52609998e-01, -3.47640008e-01, -2.50090003e-01,\n",
       "        8.18579972e-01,  6.19660020e-01,  2.10720003e-02, -9.30539966e-02,\n",
       "        3.78529996e-01,  3.12620014e-01, -2.83340007e-01,  2.51289994e-01,\n",
       "        2.21900001e-01,  7.71550000e-01,  7.28980005e-02,  1.45260006e-01,\n",
       "       -8.43760014e-01, -9.94499981e-01, -3.61869991e-01,  3.15400004e-01,\n",
       "       -5.37669994e-02,  2.68669993e-01, -9.05200019e-02,  7.49029994e-01,\n",
       "        4.71149990e-03,  2.71530002e-01,  6.65970027e-01,  8.14229995e-02,\n",
       "       -4.42950010e-01, -2.45179996e-01,  2.25030005e-01, -7.69840032e-02])"
      ]
     },
     "execution_count": 30,
     "metadata": {},
     "output_type": "execute_result"
    }
   ],
   "source": [
    "print(embedding_matrix.shape)\n",
    "embedding_matrix[296]"
   ]
  },
  {
   "cell_type": "code",
   "execution_count": 31,
   "metadata": {},
   "outputs": [
    {
     "name": "stdout",
     "output_type": "stream",
     "text": [
      "Model: \"sequential_1\"\n",
      "_________________________________________________________________\n",
      "Layer (type)                 Output Shape              Param #   \n",
      "=================================================================\n",
      "embedding_1 (Embedding)      (None, 8, 300)            980100    \n",
      "_________________________________________________________________\n",
      "bidirectional_1 (Bidirection (None, 64)                64128     \n",
      "_________________________________________________________________\n",
      "dropout_1 (Dropout)          (None, 64)                0         \n",
      "_________________________________________________________________\n",
      "dense_1 (Dense)              (None, 5)                 325       \n",
      "=================================================================\n",
      "Total params: 1,044,553\n",
      "Trainable params: 1,044,553\n",
      "Non-trainable params: 0\n",
      "_________________________________________________________________\n"
     ]
    }
   ],
   "source": [
    "model = Sequential()\n",
    "#model.add(Embedding(len(word_index) + 1, output_dim=32, input_length=MAX_SEQUENCE_LENGTH))\n",
    "model.add(embedding_layer)\n",
    "model.add(Bidirectional(GRU(32)))\n",
    "model.add(Dropout(0.1))\n",
    "model.add(Dense(5, activation='softmax', kernel_regularizer = l2(0.07)))\n",
    "model.compile(loss='categorical_crossentropy', optimizer='Adam', metrics=['accuracy'])\n",
    "model.summary()"
   ]
  },
  {
   "cell_type": "code",
   "execution_count": 32,
   "metadata": {
    "scrolled": true
   },
   "outputs": [
    {
     "name": "stdout",
     "output_type": "stream",
     "text": [
      "Epoch 1/50\n",
      "23/23 [==============================] - 10s 113ms/step - loss: 2.1065 - accuracy: 0.3764 - val_loss: 1.6933 - val_accuracy: 0.7107\n",
      "Epoch 2/50\n",
      "23/23 [==============================] - 1s 27ms/step - loss: 1.5432 - accuracy: 0.7872 - val_loss: 1.2803 - val_accuracy: 0.7978\n",
      "Epoch 3/50\n",
      "23/23 [==============================] - 1s 27ms/step - loss: 1.1307 - accuracy: 0.8832 - val_loss: 0.9699 - val_accuracy: 0.8539\n",
      "Epoch 4/50\n",
      "23/23 [==============================] - 1s 27ms/step - loss: 0.7977 - accuracy: 0.9196 - val_loss: 0.7922 - val_accuracy: 0.8708\n",
      "Epoch 5/50\n",
      "23/23 [==============================] - 1s 27ms/step - loss: 0.5833 - accuracy: 0.9484 - val_loss: 0.7011 - val_accuracy: 0.8848\n",
      "Epoch 6/50\n",
      "23/23 [==============================] - 1s 27ms/step - loss: 0.4408 - accuracy: 0.9828 - val_loss: 0.6261 - val_accuracy: 0.8736\n",
      "Epoch 7/50\n",
      "23/23 [==============================] - 1s 28ms/step - loss: 0.3705 - accuracy: 0.9893 - val_loss: 0.5847 - val_accuracy: 0.8792\n",
      "Epoch 8/50\n",
      "23/23 [==============================] - 1s 28ms/step - loss: 0.2969 - accuracy: 0.9975 - val_loss: 0.5532 - val_accuracy: 0.8820\n",
      "Epoch 9/50\n",
      "23/23 [==============================] - 1s 27ms/step - loss: 0.2629 - accuracy: 0.9964 - val_loss: 0.5311 - val_accuracy: 0.8848\n",
      "Epoch 10/50\n",
      "23/23 [==============================] - 1s 27ms/step - loss: 0.2329 - accuracy: 0.9998 - val_loss: 0.5192 - val_accuracy: 0.8848\n",
      "Epoch 11/50\n",
      "23/23 [==============================] - 1s 28ms/step - loss: 0.2126 - accuracy: 1.0000 - val_loss: 0.5080 - val_accuracy: 0.8820\n",
      "Epoch 12/50\n",
      "23/23 [==============================] - 1s 28ms/step - loss: 0.1994 - accuracy: 1.0000 - val_loss: 0.5012 - val_accuracy: 0.8848\n",
      "Epoch 13/50\n",
      "23/23 [==============================] - 1s 28ms/step - loss: 0.1873 - accuracy: 1.0000 - val_loss: 0.4984 - val_accuracy: 0.8876\n",
      "Epoch 14/50\n",
      "23/23 [==============================] - 1s 28ms/step - loss: 0.1779 - accuracy: 1.0000 - val_loss: 0.4949 - val_accuracy: 0.8848\n",
      "Epoch 15/50\n",
      "23/23 [==============================] - 0s 19ms/step - loss: 0.1711 - accuracy: 1.0000 - val_loss: 0.4949 - val_accuracy: 0.8764\n",
      "Epoch 16/50\n",
      "23/23 [==============================] - 0s 17ms/step - loss: 0.1667 - accuracy: 1.0000 - val_loss: 0.4935 - val_accuracy: 0.8708\n",
      "Epoch 17/50\n",
      "23/23 [==============================] - 0s 16ms/step - loss: 0.1633 - accuracy: 1.0000 - val_loss: 0.4935 - val_accuracy: 0.8567\n",
      "Epoch 18/50\n",
      "23/23 [==============================] - 1s 23ms/step - loss: 0.1592 - accuracy: 1.0000 - val_loss: 0.4921 - val_accuracy: 0.8680\n",
      "Epoch 19/50\n",
      "23/23 [==============================] - 0s 15ms/step - loss: 0.1554 - accuracy: 1.0000 - val_loss: 0.4959 - val_accuracy: 0.8680\n",
      "Epoch 20/50\n",
      "23/23 [==============================] - 0s 16ms/step - loss: 0.1524 - accuracy: 1.0000 - val_loss: 0.4971 - val_accuracy: 0.8680\n",
      "Epoch 21/50\n",
      "23/23 [==============================] - 1s 23ms/step - loss: 0.1488 - accuracy: 1.0000 - val_loss: 0.4980 - val_accuracy: 0.8652\n",
      "Epoch 22/50\n",
      "23/23 [==============================] - 1s 28ms/step - loss: 0.1477 - accuracy: 1.0000 - val_loss: 0.4995 - val_accuracy: 0.8624\n",
      "Epoch 23/50\n",
      "23/23 [==============================] - 1s 28ms/step - loss: 0.1450 - accuracy: 1.0000 - val_loss: 0.5009 - val_accuracy: 0.8652\n",
      "Epoch 24/50\n",
      "23/23 [==============================] - 1s 25ms/step - loss: 0.1440 - accuracy: 1.0000 - val_loss: 0.5074 - val_accuracy: 0.8624\n",
      "Epoch 25/50\n",
      "23/23 [==============================] - 1s 28ms/step - loss: 0.1437 - accuracy: 1.0000 - val_loss: 0.4987 - val_accuracy: 0.8680\n",
      "Epoch 26/50\n",
      "23/23 [==============================] - 1s 28ms/step - loss: 0.1408 - accuracy: 1.0000 - val_loss: 0.5012 - val_accuracy: 0.8624\n",
      "Epoch 27/50\n",
      "23/23 [==============================] - 1s 27ms/step - loss: 0.1400 - accuracy: 1.0000 - val_loss: 0.5011 - val_accuracy: 0.8624\n",
      "Epoch 28/50\n",
      "23/23 [==============================] - 1s 28ms/step - loss: 0.1388 - accuracy: 1.0000 - val_loss: 0.5048 - val_accuracy: 0.8596\n",
      "Epoch 29/50\n",
      "23/23 [==============================] - 1s 27ms/step - loss: 0.1369 - accuracy: 1.0000 - val_loss: 0.5103 - val_accuracy: 0.8567\n",
      "Epoch 30/50\n",
      "23/23 [==============================] - 1s 27ms/step - loss: 0.1358 - accuracy: 1.0000 - val_loss: 0.5120 - val_accuracy: 0.8539\n",
      "Epoch 31/50\n",
      "23/23 [==============================] - 1s 29ms/step - loss: 0.1351 - accuracy: 1.0000 - val_loss: 0.5193 - val_accuracy: 0.8539\n",
      "Epoch 32/50\n",
      "23/23 [==============================] - 1s 28ms/step - loss: 0.1345 - accuracy: 1.0000 - val_loss: 0.5165 - val_accuracy: 0.8511\n",
      "Epoch 33/50\n",
      "23/23 [==============================] - 1s 28ms/step - loss: 0.1340 - accuracy: 1.0000 - val_loss: 0.5171 - val_accuracy: 0.8511\n",
      "Epoch 34/50\n",
      "23/23 [==============================] - 1s 28ms/step - loss: 0.1329 - accuracy: 1.0000 - val_loss: 0.5300 - val_accuracy: 0.8511\n",
      "Epoch 35/50\n",
      "23/23 [==============================] - 1s 28ms/step - loss: 0.1313 - accuracy: 1.0000 - val_loss: 0.5260 - val_accuracy: 0.8539\n",
      "Epoch 36/50\n",
      "23/23 [==============================] - 1s 29ms/step - loss: 0.1311 - accuracy: 1.0000 - val_loss: 0.5333 - val_accuracy: 0.8539\n",
      "Epoch 37/50\n",
      "23/23 [==============================] - 1s 29ms/step - loss: 0.1312 - accuracy: 1.0000 - val_loss: 0.5268 - val_accuracy: 0.8483\n",
      "Epoch 38/50\n",
      "23/23 [==============================] - 1s 28ms/step - loss: 0.1305 - accuracy: 1.0000 - val_loss: 0.5311 - val_accuracy: 0.8511\n",
      "Epoch 39/50\n",
      "23/23 [==============================] - 1s 28ms/step - loss: 0.1293 - accuracy: 1.0000 - val_loss: 0.5272 - val_accuracy: 0.8483\n",
      "Epoch 40/50\n",
      "23/23 [==============================] - 1s 29ms/step - loss: 0.1289 - accuracy: 1.0000 - val_loss: 0.5226 - val_accuracy: 0.8511\n",
      "Epoch 41/50\n",
      "23/23 [==============================] - 1s 28ms/step - loss: 0.1294 - accuracy: 1.0000 - val_loss: 0.5288 - val_accuracy: 0.8483\n",
      "Epoch 42/50\n",
      "23/23 [==============================] - 1s 22ms/step - loss: 0.1286 - accuracy: 1.0000 - val_loss: 0.5220 - val_accuracy: 0.8455\n",
      "Epoch 43/50\n",
      "23/23 [==============================] - 0s 19ms/step - loss: 0.1276 - accuracy: 1.0000 - val_loss: 0.5175 - val_accuracy: 0.8511\n",
      "Epoch 44/50\n",
      "23/23 [==============================] - 0s 22ms/step - loss: 0.1274 - accuracy: 1.0000 - val_loss: 0.5173 - val_accuracy: 0.8511\n",
      "Epoch 45/50\n",
      "23/23 [==============================] - 0s 21ms/step - loss: 0.1266 - accuracy: 1.0000 - val_loss: 0.5188 - val_accuracy: 0.8483\n",
      "Epoch 46/50\n",
      "23/23 [==============================] - 0s 16ms/step - loss: 0.1263 - accuracy: 1.0000 - val_loss: 0.5238 - val_accuracy: 0.8455\n",
      "Epoch 47/50\n",
      "23/23 [==============================] - 0s 16ms/step - loss: 0.1263 - accuracy: 1.0000 - val_loss: 0.5240 - val_accuracy: 0.8455\n",
      "Epoch 48/50\n",
      "23/23 [==============================] - 1s 23ms/step - loss: 0.1261 - accuracy: 1.0000 - val_loss: 0.5220 - val_accuracy: 0.8455\n",
      "Epoch 49/50\n",
      "23/23 [==============================] - 1s 27ms/step - loss: 0.1256 - accuracy: 1.0000 - val_loss: 0.5214 - val_accuracy: 0.8511\n",
      "Epoch 50/50\n",
      "23/23 [==============================] - 1s 27ms/step - loss: 0.1256 - accuracy: 1.0000 - val_loss: 0.5255 - val_accuracy: 0.8567\n"
     ]
    }
   ],
   "source": [
    "X_train, X_test, y_train, y_test = train_test_split(train_text_data, train_text_labels, test_size=0.2, random_state=1, shuffle = False)\n",
    "history = model.fit(X_train, y_train, epochs=50, batch_size=64, validation_data=(X_test, y_test))"
   ]
  },
  {
   "cell_type": "code",
   "execution_count": 33,
   "metadata": {},
   "outputs": [
    {
     "name": "stdout",
     "output_type": "stream",
     "text": [
      "[0.9633863  0.00788503 0.0084611  0.01027096 0.0099967 ]\n",
      "['business', 'business', 'politics', 'tech', 'sport', 'business', 'politics', 'politics', 'tech', 'sport', 'sport', 'politics', 'entertainment', 'entertainment', 'politics', 'sport', 'business', 'entertainment', 'sport', 'tech', 'politics', 'business', 'politics', 'sport', 'tech', 'business', 'tech', 'sport', 'entertainment', 'sport', 'politics', 'tech', 'entertainment', 'tech', 'sport', 'business', 'business', 'sport', 'sport', 'tech', 'entertainment', 'sport', 'politics', 'business', 'business', 'politics', 'business', 'politics', 'politics', 'sport', 'tech', 'entertainment', 'sport', 'entertainment', 'sport', 'business', 'entertainment', 'politics', 'sport', 'sport', 'politics', 'sport', 'sport', 'politics', 'entertainment', 'sport', 'tech', 'politics', 'business', 'politics', 'politics', 'entertainment', 'business', 'tech', 'sport', 'tech', 'politics', 'business', 'entertainment', 'politics', 'tech', 'tech', 'politics', 'business', 'tech', 'sport', 'business', 'sport', 'tech', 'sport', 'politics', 'entertainment', 'sport', 'sport', 'tech', 'politics', 'sport', 'entertainment', 'entertainment', 'politics', 'business', 'business', 'sport', 'business', 'tech', 'entertainment', 'sport', 'tech', 'politics', 'politics', 'business', 'politics', 'politics', 'sport', 'business', 'entertainment', 'business', 'sport', 'tech', 'sport', 'sport', 'tech', 'sport', 'sport', 'tech', 'entertainment', 'entertainment', 'business', 'business', 'entertainment', 'business', 'sport', 'tech', 'business', 'entertainment', 'business', 'tech', 'business', 'sport', 'sport', 'tech', 'business', 'sport', 'tech', 'business', 'tech', 'politics', 'sport', 'business', 'sport', 'sport', 'politics', 'entertainment', 'entertainment', 'politics', 'sport', 'sport', 'sport', 'tech', 'tech', 'business', 'business', 'business', 'entertainment', 'entertainment', 'politics', 'sport', 'entertainment', 'sport', 'entertainment', 'entertainment', 'business', 'politics', 'entertainment', 'sport', 'sport', 'tech', 'tech', 'tech', 'business', 'tech', 'sport', 'business', 'sport', 'business', 'business', 'sport', 'entertainment', 'business', 'tech', 'business', 'tech', 'tech', 'tech', 'tech', 'business', 'politics', 'sport', 'sport', 'politics', 'sport', 'entertainment', 'politics', 'entertainment', 'sport', 'entertainment', 'tech', 'politics', 'sport', 'sport', 'business', 'entertainment', 'sport', 'business', 'sport', 'tech', 'sport', 'tech', 'politics', 'business', 'business', 'tech', 'business', 'entertainment', 'entertainment', 'sport', 'entertainment', 'sport', 'sport', 'sport', 'politics', 'politics', 'sport', 'sport', 'politics', 'entertainment', 'sport', 'politics', 'sport', 'business', 'entertainment', 'politics', 'politics', 'entertainment', 'tech', 'sport', 'sport', 'entertainment', 'sport', 'politics', 'sport', 'sport', 'politics', 'entertainment', 'business', 'tech', 'sport', 'sport', 'business', 'sport', 'sport', 'business', 'business', 'sport', 'entertainment', 'entertainment', 'entertainment', 'sport', 'tech', 'politics', 'sport', 'politics', 'business', 'politics', 'politics', 'tech', 'sport', 'business', 'sport', 'entertainment', 'entertainment', 'politics', 'entertainment', 'business', 'entertainment', 'sport', 'tech', 'business', 'tech', 'business', 'politics', 'politics', 'business', 'sport', 'politics', 'tech', 'politics', 'politics', 'sport', 'entertainment', 'sport', 'politics', 'entertainment', 'sport', 'sport', 'tech', 'tech', 'business', 'sport', 'sport', 'tech', 'politics', 'tech', 'tech', 'sport', 'sport', 'politics', 'tech', 'tech', 'politics', 'business', 'entertainment', 'politics', 'sport', 'business', 'politics', 'tech', 'business', 'sport', 'sport', 'tech', 'business', 'entertainment', 'entertainment', 'sport', 'politics', 'business', 'business', 'business', 'tech', 'sport', 'sport', 'politics', 'tech', 'politics', 'politics', 'tech', 'business', 'business', 'tech', 'sport', 'tech', 'tech', 'sport', 'politics', 'tech', 'politics', 'sport', 'politics', 'sport', 'entertainment', 'sport', 'sport', 'tech', 'politics', 'business', 'business', 'tech', 'tech', 'business', 'sport', 'tech', 'politics', 'tech', 'tech', 'politics', 'tech', 'sport', 'sport', 'sport', 'sport', 'business', 'sport', 'sport', 'tech', 'politics', 'business', 'politics', 'tech', 'tech', 'business', 'entertainment', 'tech', 'entertainment', 'sport', 'business', 'tech', 'business', 'tech', 'business', 'entertainment', 'sport', 'sport', 'politics', 'business', 'sport', 'tech', 'business', 'tech', 'tech', 'politics', 'politics', 'sport', 'politics', 'entertainment', 'tech', 'entertainment', 'politics', 'sport', 'sport', 'sport', 'entertainment', 'business', 'politics', 'tech', 'tech', 'sport', 'sport', 'sport', 'politics', 'sport', 'sport', 'sport', 'entertainment', 'entertainment', 'tech', 'sport', 'sport', 'business', 'politics', 'entertainment', 'tech', 'entertainment', 'sport', 'tech']\n"
     ]
    }
   ],
   "source": [
    "predictions = model.predict(test_text_data)\n",
    "submit = []\n",
    "result = np.zeros(len(predictions))\n",
    "count = 0\n",
    "print(predictions[1])\n",
    "result = np.array( [ np.argmax ( y, axis=None, out=None ) for y in predictions ] )\n",
    "for pred in predictions:\n",
    "    p = pred.argmax()\n",
    "    submit.append(le.inverse_transform([p])[0])\n",
    "    count = count+1\n",
    "print(submit)\n",
    "submission = pd.DataFrame({'Id':test_X['Id'], 'Category':submit})\n",
    "submission.to_csv('submission.csv', index=False)"
   ]
  },
  {
   "cell_type": "code",
   "execution_count": 34,
   "metadata": {},
   "outputs": [
    {
     "data": {
      "text/html": [
       "<div>\n",
       "<style scoped>\n",
       "    .dataframe tbody tr th:only-of-type {\n",
       "        vertical-align: middle;\n",
       "    }\n",
       "\n",
       "    .dataframe tbody tr th {\n",
       "        vertical-align: top;\n",
       "    }\n",
       "\n",
       "    .dataframe thead th {\n",
       "        text-align: right;\n",
       "    }\n",
       "</style>\n",
       "<table border=\"1\" class=\"dataframe\">\n",
       "  <thead>\n",
       "    <tr style=\"text-align: right;\">\n",
       "      <th></th>\n",
       "      <th>Id</th>\n",
       "      <th>Category</th>\n",
       "    </tr>\n",
       "  </thead>\n",
       "  <tbody>\n",
       "    <tr>\n",
       "      <th>0</th>\n",
       "      <td>0</td>\n",
       "      <td>business</td>\n",
       "    </tr>\n",
       "    <tr>\n",
       "      <th>1</th>\n",
       "      <td>1</td>\n",
       "      <td>business</td>\n",
       "    </tr>\n",
       "    <tr>\n",
       "      <th>2</th>\n",
       "      <td>2</td>\n",
       "      <td>politics</td>\n",
       "    </tr>\n",
       "    <tr>\n",
       "      <th>3</th>\n",
       "      <td>3</td>\n",
       "      <td>tech</td>\n",
       "    </tr>\n",
       "    <tr>\n",
       "      <th>4</th>\n",
       "      <td>4</td>\n",
       "      <td>sport</td>\n",
       "    </tr>\n",
       "    <tr>\n",
       "      <th>...</th>\n",
       "      <td>...</td>\n",
       "      <td>...</td>\n",
       "    </tr>\n",
       "    <tr>\n",
       "      <th>440</th>\n",
       "      <td>440</td>\n",
       "      <td>entertainment</td>\n",
       "    </tr>\n",
       "    <tr>\n",
       "      <th>441</th>\n",
       "      <td>441</td>\n",
       "      <td>tech</td>\n",
       "    </tr>\n",
       "    <tr>\n",
       "      <th>442</th>\n",
       "      <td>442</td>\n",
       "      <td>entertainment</td>\n",
       "    </tr>\n",
       "    <tr>\n",
       "      <th>443</th>\n",
       "      <td>443</td>\n",
       "      <td>sport</td>\n",
       "    </tr>\n",
       "    <tr>\n",
       "      <th>444</th>\n",
       "      <td>444</td>\n",
       "      <td>tech</td>\n",
       "    </tr>\n",
       "  </tbody>\n",
       "</table>\n",
       "<p>445 rows × 2 columns</p>\n",
       "</div>"
      ],
      "text/plain": [
       "      Id       Category\n",
       "0      0       business\n",
       "1      1       business\n",
       "2      2       politics\n",
       "3      3           tech\n",
       "4      4          sport\n",
       "..   ...            ...\n",
       "440  440  entertainment\n",
       "441  441           tech\n",
       "442  442  entertainment\n",
       "443  443          sport\n",
       "444  444           tech\n",
       "\n",
       "[445 rows x 2 columns]"
      ]
     },
     "execution_count": 34,
     "metadata": {},
     "output_type": "execute_result"
    }
   ],
   "source": [
    "submission"
   ]
  },
  {
   "cell_type": "code",
   "execution_count": 35,
   "metadata": {},
   "outputs": [
    {
     "name": "stdout",
     "output_type": "stream",
     "text": [
      "      Id                                 Title\n",
      "0      0  [winemaker, rejects, fosters, offer]\n",
      "1      1      [boeing, unveils, new, aircraft]\n",
      "2      2   [brown, visits, slum, africa, trip]\n",
      "3      3         [us, blogger, fired, airline]\n",
      "4      4           [mansfield, leyton, orient]\n",
      "..   ...                                   ...\n",
      "440  440   [queen, recruit, singer, new, tour]\n",
      "441  441   [slim, playstation, triples, sales]\n",
      "442  442  [vera, drakes, bafta, triumph, hope]\n",
      "443  443     [tindall, wants, second, opinion]\n",
      "444  444      [text, message, record, smashed]\n",
      "\n",
      "[445 rows x 2 columns]\n"
     ]
    }
   ],
   "source": [
    "print(test_X)"
   ]
  },
  {
   "cell_type": "code",
   "execution_count": 36,
   "metadata": {},
   "outputs": [
    {
     "data": {
      "image/png": "[encoded data removed]",
      "text/plain": [
       "<Figure size 432x288 with 1 Axes>"
      ]
     },
     "metadata": {
      "needs_background": "light"
     },
     "output_type": "display_data"
    }
   ],
   "source": [
    "#Plot loss curve\n",
    "fig=plt.figure()\n",
    "plt.plot(history.history['loss'],'r',linewidth=3.0)\n",
    "plt.plot(history.history['val_loss'],'b',linewidth=3.0)\n",
    "plt.legend(['Training Loss', 'Validation Loss'],fontsize=18)\n",
    "plt.xlabel('Epochs ',fontsize=16)\n",
    "plt.ylabel('Loss',fontsize=16)\n",
    "plt.title('Loss Curves : RNN',fontsize=16)\n",
    "plt.show()"
   ]
  },
  {
   "cell_type": "code",
   "execution_count": 37,
   "metadata": {},
   "outputs": [],
   "source": [
    "# import numpy as np\n",
    "# start_time = time.time()\n",
    "# embeddings_index = {}\n",
    "# with open('zh_wiki_word2vec_300.txt', 'r',encoding=\"utf-8\") as f:\n",
    "#     for line in f:\n",
    "#         values = line.split()\n",
    "#         word = converter.convert(values[0])\n",
    "# #         print(word)\n",
    "#         coefs = np.asarray(values[1:], dtype='float32')\n",
    "#         embeddings_index[word] = coefs\n",
    "# #     content = f.read() # 讀取檔案內容"
   ]
  },
  {
   "cell_type": "code",
   "execution_count": 38,
   "metadata": {},
   "outputs": [
    {
     "data": {
      "image/png": "[encoded data removed]",
      "text/plain": [
       "<Figure size 432x288 with 1 Axes>"
      ]
     },
     "metadata": {
      "needs_background": "light"
     },
     "output_type": "display_data"
    }
   ],
   "source": [
    "#Plot loss curve\n",
    "fig=plt.figure()\n",
    "plt.plot(history.history['accuracy'],'r',linewidth=3.0)\n",
    "plt.plot(history.history['val_accuracy'],'b',linewidth=3.0)\n",
    "plt.legend(['Training Accuracy', 'Validation Accuracy'],fontsize=18)\n",
    "plt.xlabel('Epochs ',fontsize=16)\n",
    "plt.ylabel('Accuracy',fontsize=16)\n",
    "plt.title('Accuracy Curves : RNN',fontsize=16)\n",
    "plt.show()"
   ]
  },
  {
   "cell_type": "code",
   "execution_count": 39,
   "metadata": {},
   "outputs": [
    {
     "name": "stdout",
     "output_type": "stream",
     "text": [
      "[0 0 2 4 3 0 2 2 4 3 3 2 1 1 2 3 0 1 3 4 2 0 2 3 4 0 4 3 1 3 2 4 1 4 3 0 0\n",
      " 3 3 4 1 3 2 0 0 2 0 2 2 3 4 1 3 1 3 0 1 2 3 3 2 3 3 2 1 3 4 2 0 2 2 1 0 4\n",
      " 3 4 2 0 1 2 4 4 2 0 4 3 0 3 4 3 2 1 3 3 4 2 3 1 1 2 0 0 3 0 4 1 3 4 2 2 0\n",
      " 2 2 3 0 1 0 3 4 3 3 4 3 3 4 1 1 0 0 1 0 3 4 0 1 0 4 0 3 3 4 0 3 4 0 4 2 3\n",
      " 0 3 3 2 1 1 2 3 3 3 4 4 0 0 0 1 1 2 3 1 3 1 1 0 2 1 3 3 4 4 4 0 4 3 0 3 0\n",
      " 0 3 1 0 4 0 4 4 4 4 0 2 3 3 2 3 1 2 1 3 1 4 2 3 3 0 1 3 0 3 4 3 4 2 0 0 4\n",
      " 0 1 1 3 1 3 3 3 2 2 3 3 2 1 3 2 3 0 1 2 2 1 4 3 3 1 3 2 3 3 2 1 0 4 3 3 0\n",
      " 3 3 0 0 3 1 1 1 3 4 2 3 2 0 2 2 4 3 0 3 1 1 2 1 0 1 3 4 0 4 0 2 2 0 3 2 4\n",
      " 2 2 3 1 3 2 1 3 3 4 4 0 3 3 4 2 4 4 3 3 2 4 4 2 0 1 2 3 0 2 4 0 3 3 4 0 1\n",
      " 1 3 2 0 0 0 4 3 3 2 4 2 2 4 0 0 4 3 4 4 3 2 4 2 3 2 3 1 3 3 4 2 0 0 4 4 0\n",
      " 3 4 2 4 4 2 4 3 3 3 3 0 3 3 4 2 0 2 4 4 0 1 4 1 3 0 4 0 4 0 1 3 3 2 0 3 4\n",
      " 0 4 4 2 2 3 2 1 4 1 2 3 3 3 1 0 2 4 4 3 3 3 2 3 3 3 1 1 4 3 3 0 2 1 4 1 3\n",
      " 4]\n"
     ]
    }
   ],
   "source": [
    "print(result)"
   ]
  },
  {
   "cell_type": "code",
   "execution_count": null,
   "metadata": {},
   "outputs": [],
   "source": []
  }
 ],
 "metadata": {
  "kernelspec": {
   "display_name": "Python 3",
   "language": "python",
   "name": "python3"
  },
  "language_info": {
   "codemirror_mode": {
    "name": "ipython",
    "version": 3
   },
   "file_extension": ".py",
   "mimetype": "text/x-python",
   "name": "python",
   "nbconvert_exporter": "python",
   "pygments_lexer": "ipython3",
   "version": "3.8.3"
  }
 },
 "nbformat": 4,
 "nbformat_minor": 4
}
